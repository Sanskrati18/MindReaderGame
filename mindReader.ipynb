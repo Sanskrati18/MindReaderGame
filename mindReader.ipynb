import random


count_zero=0
count_one=0
player_score=0
computer_score=0

def prediction():
  if count_zero>count_one :
    predict=0
  elif count_one>count_zero :
    predict=1
  else :
    predict=random.randint(0,1)
  return predict

def update_counts(player_input):
  global count_zero, count_one
  if player_input==0 :
    count_zero+=1
  else :
    count_one+=1

def update_scores(player_input, predicted):
  global computer_score, player_score
  if player_input==predicted :
    computer_score+=1
  else :
    player_score+=1
  print("Computer Score: ",computer_score,"Player Score: ", player_score)

def gameplay():
  valid_entries=['0','1']
  while True:
    predicted=prediction()
    player_input=input("Enter the value: ")
    while player_input not in valid_entries :
      print("Invalid input")
      player_input=input("Enter the value: ")
    player_input=int(player_input)
    update_counts(player_input)
    update_scores(player_input, predicted)
    if player_score==10:
      print("Player Won")
      break
    elif computer_score==10:
      print("Computer Won")
      break

gameplay()
